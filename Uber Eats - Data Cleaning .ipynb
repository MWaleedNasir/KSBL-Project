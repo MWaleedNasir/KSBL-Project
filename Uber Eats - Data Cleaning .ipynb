{
 "cells": [
  {
   "cell_type": "code",
   "execution_count": 1,
   "id": "22cbe898",
   "metadata": {},
   "outputs": [],
   "source": [
    "# Importing the main libraries\n",
    "import pandas as pd\n",
    "import numpy as np"
   ]
  },
  {
   "cell_type": "code",
   "execution_count": 2,
   "id": "bdceb4c3",
   "metadata": {},
   "outputs": [],
   "source": [
    "# Loading the first csv file\n",
    "main_data = pd.read_csv('restaurants.csv')\n",
    "# Since pandas displays a limited number of rows, we are setting this to 500 rows so that we can explore the dataset\n",
    "pd.set_option('display.max_rows', 500)"
   ]
  },
  {
   "cell_type": "code",
   "execution_count": 3,
   "id": "57dc2f37",
   "metadata": {},
   "outputs": [
    {
     "data": {
      "text/html": [
       "<div>\n",
       "<style scoped>\n",
       "    .dataframe tbody tr th:only-of-type {\n",
       "        vertical-align: middle;\n",
       "    }\n",
       "\n",
       "    .dataframe tbody tr th {\n",
       "        vertical-align: top;\n",
       "    }\n",
       "\n",
       "    .dataframe thead th {\n",
       "        text-align: right;\n",
       "    }\n",
       "</style>\n",
       "<table border=\"1\" class=\"dataframe\">\n",
       "  <thead>\n",
       "    <tr style=\"text-align: right;\">\n",
       "      <th></th>\n",
       "      <th>id</th>\n",
       "      <th>position</th>\n",
       "      <th>name</th>\n",
       "      <th>score</th>\n",
       "      <th>ratings</th>\n",
       "      <th>category</th>\n",
       "      <th>price_range</th>\n",
       "      <th>full_address</th>\n",
       "      <th>zip_code</th>\n",
       "      <th>lat</th>\n",
       "      <th>lng</th>\n",
       "    </tr>\n",
       "  </thead>\n",
       "  <tbody>\n",
       "    <tr>\n",
       "      <th>0</th>\n",
       "      <td>1</td>\n",
       "      <td>19</td>\n",
       "      <td>PJ Fresh (224 Daniel Payne Drive)</td>\n",
       "      <td>NaN</td>\n",
       "      <td>NaN</td>\n",
       "      <td>Burgers, American, Sandwiches</td>\n",
       "      <td>$</td>\n",
       "      <td>224 Daniel Payne Drive, Birmingham, AL, 35207</td>\n",
       "      <td>35207</td>\n",
       "      <td>33.562365</td>\n",
       "      <td>-86.830703</td>\n",
       "    </tr>\n",
       "    <tr>\n",
       "      <th>1</th>\n",
       "      <td>2</td>\n",
       "      <td>9</td>\n",
       "      <td>J' ti`'z Smoothie-N-Coffee Bar</td>\n",
       "      <td>NaN</td>\n",
       "      <td>NaN</td>\n",
       "      <td>Coffee and Tea, Breakfast and Brunch, Bubble Tea</td>\n",
       "      <td>NaN</td>\n",
       "      <td>1521 Pinson Valley Parkway, Birmingham, AL, 35217</td>\n",
       "      <td>35217</td>\n",
       "      <td>33.583640</td>\n",
       "      <td>-86.773330</td>\n",
       "    </tr>\n",
       "    <tr>\n",
       "      <th>2</th>\n",
       "      <td>3</td>\n",
       "      <td>6</td>\n",
       "      <td>Philly Fresh Cheesesteaks (541-B Graymont Ave)</td>\n",
       "      <td>NaN</td>\n",
       "      <td>NaN</td>\n",
       "      <td>American, Cheesesteak, Sandwiches, Alcohol</td>\n",
       "      <td>$</td>\n",
       "      <td>541-B Graymont Ave, Birmingham, AL, 35204</td>\n",
       "      <td>35204</td>\n",
       "      <td>33.509800</td>\n",
       "      <td>-86.854640</td>\n",
       "    </tr>\n",
       "    <tr>\n",
       "      <th>3</th>\n",
       "      <td>4</td>\n",
       "      <td>17</td>\n",
       "      <td>Papa Murphy's (1580 Montgomery Highway)</td>\n",
       "      <td>NaN</td>\n",
       "      <td>NaN</td>\n",
       "      <td>Pizza</td>\n",
       "      <td>$</td>\n",
       "      <td>1580 Montgomery Highway, Hoover, AL, 35226</td>\n",
       "      <td>35226</td>\n",
       "      <td>33.404439</td>\n",
       "      <td>-86.806614</td>\n",
       "    </tr>\n",
       "    <tr>\n",
       "      <th>4</th>\n",
       "      <td>5</td>\n",
       "      <td>162</td>\n",
       "      <td>Nelson Brothers Cafe (17th St N)</td>\n",
       "      <td>4.7</td>\n",
       "      <td>22.0</td>\n",
       "      <td>Breakfast and Brunch, Burgers, Sandwiches</td>\n",
       "      <td>NaN</td>\n",
       "      <td>314 17th St N, Birmingham, AL, 35203</td>\n",
       "      <td>35203</td>\n",
       "      <td>33.514730</td>\n",
       "      <td>-86.811700</td>\n",
       "    </tr>\n",
       "  </tbody>\n",
       "</table>\n",
       "</div>"
      ],
      "text/plain": [
       "   id  position                                            name  score  \\\n",
       "0   1        19               PJ Fresh (224 Daniel Payne Drive)    NaN   \n",
       "1   2         9                  J' ti`'z Smoothie-N-Coffee Bar    NaN   \n",
       "2   3         6  Philly Fresh Cheesesteaks (541-B Graymont Ave)    NaN   \n",
       "3   4        17         Papa Murphy's (1580 Montgomery Highway)    NaN   \n",
       "4   5       162                Nelson Brothers Cafe (17th St N)    4.7   \n",
       "\n",
       "   ratings                                          category price_range  \\\n",
       "0      NaN                     Burgers, American, Sandwiches           $   \n",
       "1      NaN  Coffee and Tea, Breakfast and Brunch, Bubble Tea         NaN   \n",
       "2      NaN        American, Cheesesteak, Sandwiches, Alcohol           $   \n",
       "3      NaN                                             Pizza           $   \n",
       "4     22.0         Breakfast and Brunch, Burgers, Sandwiches         NaN   \n",
       "\n",
       "                                        full_address zip_code        lat  \\\n",
       "0      224 Daniel Payne Drive, Birmingham, AL, 35207    35207  33.562365   \n",
       "1  1521 Pinson Valley Parkway, Birmingham, AL, 35217    35217  33.583640   \n",
       "2          541-B Graymont Ave, Birmingham, AL, 35204    35204  33.509800   \n",
       "3         1580 Montgomery Highway, Hoover, AL, 35226    35226  33.404439   \n",
       "4               314 17th St N, Birmingham, AL, 35203    35203  33.514730   \n",
       "\n",
       "         lng  \n",
       "0 -86.830703  \n",
       "1 -86.773330  \n",
       "2 -86.854640  \n",
       "3 -86.806614  \n",
       "4 -86.811700  "
      ]
     },
     "execution_count": 3,
     "metadata": {},
     "output_type": "execute_result"
    }
   ],
   "source": [
    "# Fetching the first five rows\n",
    "main_data.head()"
   ]
  },
  {
   "cell_type": "code",
   "execution_count": 4,
   "id": "ad9afe6c",
   "metadata": {},
   "outputs": [],
   "source": [
    "# Renaming the columns here which will help us to understand the data \n",
    "main_data.rename(columns={\"id\": \"restaurant_id\", \"position\": \"restaurant_position_in_search_result\", \"name\": \"restaurant_name\", \"category\": \"super_category\", \"lng\": \"long\"}, inplace=True)"
   ]
  },
  {
   "cell_type": "code",
   "execution_count": 5,
   "id": "3f4724e4",
   "metadata": {},
   "outputs": [
    {
     "data": {
      "text/html": [
       "<div>\n",
       "<style scoped>\n",
       "    .dataframe tbody tr th:only-of-type {\n",
       "        vertical-align: middle;\n",
       "    }\n",
       "\n",
       "    .dataframe tbody tr th {\n",
       "        vertical-align: top;\n",
       "    }\n",
       "\n",
       "    .dataframe thead th {\n",
       "        text-align: right;\n",
       "    }\n",
       "</style>\n",
       "<table border=\"1\" class=\"dataframe\">\n",
       "  <thead>\n",
       "    <tr style=\"text-align: right;\">\n",
       "      <th></th>\n",
       "      <th>restaurant_id</th>\n",
       "      <th>restaurant_position_in_search_result</th>\n",
       "      <th>restaurant_name</th>\n",
       "      <th>score</th>\n",
       "      <th>ratings</th>\n",
       "      <th>super_category</th>\n",
       "      <th>price_range</th>\n",
       "      <th>full_address</th>\n",
       "      <th>zip_code</th>\n",
       "      <th>lat</th>\n",
       "      <th>long</th>\n",
       "    </tr>\n",
       "  </thead>\n",
       "  <tbody>\n",
       "    <tr>\n",
       "      <th>0</th>\n",
       "      <td>1</td>\n",
       "      <td>19</td>\n",
       "      <td>PJ Fresh (224 Daniel Payne Drive)</td>\n",
       "      <td>NaN</td>\n",
       "      <td>NaN</td>\n",
       "      <td>Burgers, American, Sandwiches</td>\n",
       "      <td>$</td>\n",
       "      <td>224 Daniel Payne Drive, Birmingham, AL, 35207</td>\n",
       "      <td>35207</td>\n",
       "      <td>33.562365</td>\n",
       "      <td>-86.830703</td>\n",
       "    </tr>\n",
       "    <tr>\n",
       "      <th>1</th>\n",
       "      <td>2</td>\n",
       "      <td>9</td>\n",
       "      <td>J' ti`'z Smoothie-N-Coffee Bar</td>\n",
       "      <td>NaN</td>\n",
       "      <td>NaN</td>\n",
       "      <td>Coffee and Tea, Breakfast and Brunch, Bubble Tea</td>\n",
       "      <td>NaN</td>\n",
       "      <td>1521 Pinson Valley Parkway, Birmingham, AL, 35217</td>\n",
       "      <td>35217</td>\n",
       "      <td>33.583640</td>\n",
       "      <td>-86.773330</td>\n",
       "    </tr>\n",
       "    <tr>\n",
       "      <th>2</th>\n",
       "      <td>3</td>\n",
       "      <td>6</td>\n",
       "      <td>Philly Fresh Cheesesteaks (541-B Graymont Ave)</td>\n",
       "      <td>NaN</td>\n",
       "      <td>NaN</td>\n",
       "      <td>American, Cheesesteak, Sandwiches, Alcohol</td>\n",
       "      <td>$</td>\n",
       "      <td>541-B Graymont Ave, Birmingham, AL, 35204</td>\n",
       "      <td>35204</td>\n",
       "      <td>33.509800</td>\n",
       "      <td>-86.854640</td>\n",
       "    </tr>\n",
       "    <tr>\n",
       "      <th>3</th>\n",
       "      <td>4</td>\n",
       "      <td>17</td>\n",
       "      <td>Papa Murphy's (1580 Montgomery Highway)</td>\n",
       "      <td>NaN</td>\n",
       "      <td>NaN</td>\n",
       "      <td>Pizza</td>\n",
       "      <td>$</td>\n",
       "      <td>1580 Montgomery Highway, Hoover, AL, 35226</td>\n",
       "      <td>35226</td>\n",
       "      <td>33.404439</td>\n",
       "      <td>-86.806614</td>\n",
       "    </tr>\n",
       "    <tr>\n",
       "      <th>4</th>\n",
       "      <td>5</td>\n",
       "      <td>162</td>\n",
       "      <td>Nelson Brothers Cafe (17th St N)</td>\n",
       "      <td>4.7</td>\n",
       "      <td>22.0</td>\n",
       "      <td>Breakfast and Brunch, Burgers, Sandwiches</td>\n",
       "      <td>NaN</td>\n",
       "      <td>314 17th St N, Birmingham, AL, 35203</td>\n",
       "      <td>35203</td>\n",
       "      <td>33.514730</td>\n",
       "      <td>-86.811700</td>\n",
       "    </tr>\n",
       "  </tbody>\n",
       "</table>\n",
       "</div>"
      ],
      "text/plain": [
       "   restaurant_id  restaurant_position_in_search_result  \\\n",
       "0              1                                    19   \n",
       "1              2                                     9   \n",
       "2              3                                     6   \n",
       "3              4                                    17   \n",
       "4              5                                   162   \n",
       "\n",
       "                                  restaurant_name  score  ratings  \\\n",
       "0               PJ Fresh (224 Daniel Payne Drive)    NaN      NaN   \n",
       "1                  J' ti`'z Smoothie-N-Coffee Bar    NaN      NaN   \n",
       "2  Philly Fresh Cheesesteaks (541-B Graymont Ave)    NaN      NaN   \n",
       "3         Papa Murphy's (1580 Montgomery Highway)    NaN      NaN   \n",
       "4                Nelson Brothers Cafe (17th St N)    4.7     22.0   \n",
       "\n",
       "                                     super_category price_range  \\\n",
       "0                     Burgers, American, Sandwiches           $   \n",
       "1  Coffee and Tea, Breakfast and Brunch, Bubble Tea         NaN   \n",
       "2        American, Cheesesteak, Sandwiches, Alcohol           $   \n",
       "3                                             Pizza           $   \n",
       "4         Breakfast and Brunch, Burgers, Sandwiches         NaN   \n",
       "\n",
       "                                        full_address zip_code        lat  \\\n",
       "0      224 Daniel Payne Drive, Birmingham, AL, 35207    35207  33.562365   \n",
       "1  1521 Pinson Valley Parkway, Birmingham, AL, 35217    35217  33.583640   \n",
       "2          541-B Graymont Ave, Birmingham, AL, 35204    35204  33.509800   \n",
       "3         1580 Montgomery Highway, Hoover, AL, 35226    35226  33.404439   \n",
       "4               314 17th St N, Birmingham, AL, 35203    35203  33.514730   \n",
       "\n",
       "        long  \n",
       "0 -86.830703  \n",
       "1 -86.773330  \n",
       "2 -86.854640  \n",
       "3 -86.806614  \n",
       "4 -86.811700  "
      ]
     },
     "execution_count": 5,
     "metadata": {},
     "output_type": "execute_result"
    }
   ],
   "source": [
    "# Printing the output to check the new headers\n",
    "main_data.head()"
   ]
  },
  {
   "cell_type": "markdown",
   "id": "2352d4cc",
   "metadata": {},
   "source": [
    "### Exploring the Dataset:"
   ]
  },
  {
   "cell_type": "code",
   "execution_count": 6,
   "id": "8a2c39bc",
   "metadata": {},
   "outputs": [
    {
     "name": "stdout",
     "output_type": "stream",
     "text": [
      "<class 'pandas.core.frame.DataFrame'>\n",
      "RangeIndex: 40227 entries, 0 to 40226\n",
      "Data columns (total 11 columns):\n",
      " #   Column                                Non-Null Count  Dtype  \n",
      "---  ------                                --------------  -----  \n",
      " 0   restaurant_id                         40227 non-null  int64  \n",
      " 1   restaurant_position_in_search_result  40227 non-null  int64  \n",
      " 2   restaurant_name                       40227 non-null  object \n",
      " 3   score                                 22254 non-null  float64\n",
      " 4   ratings                               22254 non-null  float64\n",
      " 5   super_category                        40204 non-null  object \n",
      " 6   price_range                           33581 non-null  object \n",
      " 7   full_address                          39949 non-null  object \n",
      " 8   zip_code                              39940 non-null  object \n",
      " 9   lat                                   40227 non-null  float64\n",
      " 10  long                                  40227 non-null  float64\n",
      "dtypes: float64(4), int64(2), object(5)\n",
      "memory usage: 3.4+ MB\n"
     ]
    }
   ],
   "source": [
    "main_data.info()"
   ]
  },
  {
   "cell_type": "code",
   "execution_count": 7,
   "id": "b0a532c2",
   "metadata": {},
   "outputs": [
    {
     "data": {
      "text/html": [
       "<div>\n",
       "<style scoped>\n",
       "    .dataframe tbody tr th:only-of-type {\n",
       "        vertical-align: middle;\n",
       "    }\n",
       "\n",
       "    .dataframe tbody tr th {\n",
       "        vertical-align: top;\n",
       "    }\n",
       "\n",
       "    .dataframe thead th {\n",
       "        text-align: right;\n",
       "    }\n",
       "</style>\n",
       "<table border=\"1\" class=\"dataframe\">\n",
       "  <thead>\n",
       "    <tr style=\"text-align: right;\">\n",
       "      <th></th>\n",
       "      <th>restaurant_id</th>\n",
       "      <th>restaurant_position_in_search_result</th>\n",
       "      <th>score</th>\n",
       "      <th>ratings</th>\n",
       "      <th>lat</th>\n",
       "      <th>long</th>\n",
       "    </tr>\n",
       "  </thead>\n",
       "  <tbody>\n",
       "    <tr>\n",
       "      <th>count</th>\n",
       "      <td>40227.000000</td>\n",
       "      <td>40227.000000</td>\n",
       "      <td>22254.000000</td>\n",
       "      <td>22254.000000</td>\n",
       "      <td>40227.000000</td>\n",
       "      <td>40227.000000</td>\n",
       "    </tr>\n",
       "    <tr>\n",
       "      <th>mean</th>\n",
       "      <td>20114.000000</td>\n",
       "      <td>79.529843</td>\n",
       "      <td>4.560996</td>\n",
       "      <td>74.870989</td>\n",
       "      <td>39.927033</td>\n",
       "      <td>-96.549713</td>\n",
       "    </tr>\n",
       "    <tr>\n",
       "      <th>std</th>\n",
       "      <td>11612.678976</td>\n",
       "      <td>77.611449</td>\n",
       "      <td>0.298041</td>\n",
       "      <td>72.381529</td>\n",
       "      <td>5.765774</td>\n",
       "      <td>17.961361</td>\n",
       "    </tr>\n",
       "    <tr>\n",
       "      <th>min</th>\n",
       "      <td>1.000000</td>\n",
       "      <td>1.000000</td>\n",
       "      <td>1.300000</td>\n",
       "      <td>10.000000</td>\n",
       "      <td>0.000000</td>\n",
       "      <td>-123.841240</td>\n",
       "    </tr>\n",
       "    <tr>\n",
       "      <th>25%</th>\n",
       "      <td>10057.500000</td>\n",
       "      <td>14.000000</td>\n",
       "      <td>4.400000</td>\n",
       "      <td>25.000000</td>\n",
       "      <td>37.082007</td>\n",
       "      <td>-113.587301</td>\n",
       "    </tr>\n",
       "    <tr>\n",
       "      <th>50%</th>\n",
       "      <td>20114.000000</td>\n",
       "      <td>51.000000</td>\n",
       "      <td>4.600000</td>\n",
       "      <td>51.000000</td>\n",
       "      <td>39.000990</td>\n",
       "      <td>-96.587547</td>\n",
       "    </tr>\n",
       "    <tr>\n",
       "      <th>75%</th>\n",
       "      <td>30170.500000</td>\n",
       "      <td>129.000000</td>\n",
       "      <td>4.800000</td>\n",
       "      <td>100.000000</td>\n",
       "      <td>45.493640</td>\n",
       "      <td>-77.528825</td>\n",
       "    </tr>\n",
       "    <tr>\n",
       "      <th>max</th>\n",
       "      <td>40227.000000</td>\n",
       "      <td>300.000000</td>\n",
       "      <td>5.000000</td>\n",
       "      <td>500.000000</td>\n",
       "      <td>48.963950</td>\n",
       "      <td>0.000000</td>\n",
       "    </tr>\n",
       "  </tbody>\n",
       "</table>\n",
       "</div>"
      ],
      "text/plain": [
       "       restaurant_id  restaurant_position_in_search_result         score  \\\n",
       "count   40227.000000                          40227.000000  22254.000000   \n",
       "mean    20114.000000                             79.529843      4.560996   \n",
       "std     11612.678976                             77.611449      0.298041   \n",
       "min         1.000000                              1.000000      1.300000   \n",
       "25%     10057.500000                             14.000000      4.400000   \n",
       "50%     20114.000000                             51.000000      4.600000   \n",
       "75%     30170.500000                            129.000000      4.800000   \n",
       "max     40227.000000                            300.000000      5.000000   \n",
       "\n",
       "            ratings           lat          long  \n",
       "count  22254.000000  40227.000000  40227.000000  \n",
       "mean      74.870989     39.927033    -96.549713  \n",
       "std       72.381529      5.765774     17.961361  \n",
       "min       10.000000      0.000000   -123.841240  \n",
       "25%       25.000000     37.082007   -113.587301  \n",
       "50%       51.000000     39.000990    -96.587547  \n",
       "75%      100.000000     45.493640    -77.528825  \n",
       "max      500.000000     48.963950      0.000000  "
      ]
     },
     "execution_count": 7,
     "metadata": {},
     "output_type": "execute_result"
    }
   ],
   "source": [
    "main_data.describe()"
   ]
  },
  {
   "cell_type": "code",
   "execution_count": 8,
   "id": "b4d3da27",
   "metadata": {},
   "outputs": [
    {
     "data": {
      "text/plain": [
       "Index(['restaurant_id', 'restaurant_position_in_search_result',\n",
       "       'restaurant_name', 'score', 'ratings', 'super_category', 'price_range',\n",
       "       'full_address', 'zip_code', 'lat', 'long'],\n",
       "      dtype='object')"
      ]
     },
     "execution_count": 8,
     "metadata": {},
     "output_type": "execute_result"
    }
   ],
   "source": [
    "main_data.columns"
   ]
  },
  {
   "cell_type": "code",
   "execution_count": 9,
   "id": "a9fa59d2",
   "metadata": {},
   "outputs": [
    {
     "data": {
      "text/plain": [
       "(40227, 11)"
      ]
     },
     "execution_count": 9,
     "metadata": {},
     "output_type": "execute_result"
    }
   ],
   "source": [
    "main_data.shape"
   ]
  },
  {
   "cell_type": "code",
   "execution_count": 10,
   "id": "133ce1c7",
   "metadata": {},
   "outputs": [
    {
     "data": {
      "text/plain": [
       "restaurant_id                             int64\n",
       "restaurant_position_in_search_result      int64\n",
       "restaurant_name                          object\n",
       "score                                   float64\n",
       "ratings                                 float64\n",
       "super_category                           object\n",
       "price_range                              object\n",
       "full_address                             object\n",
       "zip_code                                 object\n",
       "lat                                     float64\n",
       "long                                    float64\n",
       "dtype: object"
      ]
     },
     "execution_count": 10,
     "metadata": {},
     "output_type": "execute_result"
    }
   ],
   "source": [
    "main_data.dtypes"
   ]
  },
  {
   "cell_type": "code",
   "execution_count": 12,
   "id": "74357d10",
   "metadata": {},
   "outputs": [
    {
     "data": {
      "text/plain": [
       "restaurant_id                               0\n",
       "restaurant_position_in_search_result        0\n",
       "restaurant_name                             0\n",
       "score                                   17973\n",
       "ratings                                 17973\n",
       "super_category                             23\n",
       "price_range                              6646\n",
       "full_address                              278\n",
       "zip_code                                  287\n",
       "lat                                         0\n",
       "long                                        0\n",
       "dtype: int64"
      ]
     },
     "execution_count": 12,
     "metadata": {},
     "output_type": "execute_result"
    }
   ],
   "source": [
    "# Checking for null values\n",
    "main_data.isnull().sum()"
   ]
  },
  {
   "cell_type": "markdown",
   "id": "8c701b64",
   "metadata": {},
   "source": [
    "### Basic Insights:"
   ]
  },
  {
   "cell_type": "markdown",
   "id": "1997b534",
   "metadata": {},
   "source": [
    "1. There are missing values in the score, ratings, super_category, price_range, full_address, and zip code columns. We will probably be using the mean/mode value to fill the score and ratings column. However, we can drop the 23 rows where the super_category is not mentioned since it will not have a big impact on the data. Whereas for the full_address column, the only insight we can extract from here is the state and the city which would be helpful to have a holistic picture of the data segmenting it on the restaurant_name. Hence, for the missing values we can also drop these rows since they won't have sufficient damage on the dataset. \n",
    "\n",
    "2. For the total number of restaurants, we can extract this information by checking the duplicates for restaurant_id, clean the data for the restaurant_name and check the value_counts. If there are multiple rows for the same restaurant_name, we can check for the state and city and distribute the data by creating a new column to check if a restaurant has multiple branches or not. \n",
    "\n",
    "3. For the price_range column, we need to fix the values first and then use it to compare with the restaurants score and rating. From this, we can find the top and bottom restaurants. \n",
    "\n",
    "4. The category column needs a lot of fixing. We need to clean the column and then convert it into a list to check the most famous categories on the basis of the restaurant name and score."
   ]
  },
  {
   "cell_type": "markdown",
   "id": "4f15cb44",
   "metadata": {},
   "source": [
    "#### Fixing the NULL values:"
   ]
  },
  {
   "cell_type": "code",
   "execution_count": 13,
   "id": "218a42ef",
   "metadata": {},
   "outputs": [
    {
     "data": {
      "text/plain": [
       "array([nan, 4.7, 4.6, 5. , 4.9, 3.7, 4.8, 4.3, 4.4, 4.1, 4.5, 4.2, 4. ,\n",
       "       3.8, 3.9, 3.5, 3.2, 3.6, 3. , 3.4, 3.3, 3.1, 2.2, 2.7, 2.9, 2.4,\n",
       "       2.8, 2.6, 2.5, 2.1, 1.9, 2. , 2.3, 1.3])"
      ]
     },
     "execution_count": 13,
     "metadata": {},
     "output_type": "execute_result"
    }
   ],
   "source": [
    "main_data['score'].unique()"
   ]
  },
  {
   "cell_type": "code",
   "execution_count": 14,
   "id": "234d21e7",
   "metadata": {},
   "outputs": [
    {
     "data": {
      "text/plain": [
       "4.7    3966\n",
       "4.8    3824\n",
       "4.6    3325\n",
       "4.5    2665\n",
       "4.4    1876\n",
       "4.9    1839\n",
       "4.3    1311\n",
       "4.2     976\n",
       "4.1     624\n",
       "5.0     574\n",
       "4.0     376\n",
       "3.9     285\n",
       "3.8     202\n",
       "3.7     115\n",
       "3.6      75\n",
       "3.5      61\n",
       "3.4      39\n",
       "3.2      34\n",
       "3.3      24\n",
       "3.0      12\n",
       "3.1      11\n",
       "2.7      10\n",
       "2.9      10\n",
       "2.8       7\n",
       "2.6       3\n",
       "2.1       3\n",
       "1.9       1\n",
       "2.3       1\n",
       "2.0       1\n",
       "2.4       1\n",
       "2.5       1\n",
       "2.2       1\n",
       "1.3       1\n",
       "Name: score, dtype: int64"
      ]
     },
     "execution_count": 14,
     "metadata": {},
     "output_type": "execute_result"
    }
   ],
   "source": [
    "main_data['score'].value_counts()"
   ]
  },
  {
   "cell_type": "code",
   "execution_count": 15,
   "id": "2d007ed8",
   "metadata": {},
   "outputs": [
    {
     "data": {
      "text/plain": [
       "4.5609957760403095"
      ]
     },
     "execution_count": 15,
     "metadata": {},
     "output_type": "execute_result"
    }
   ],
   "source": [
    "main_data['score'].mean()"
   ]
  },
  {
   "cell_type": "code",
   "execution_count": 16,
   "id": "4556ca8f",
   "metadata": {},
   "outputs": [
    {
     "data": {
      "text/plain": [
       "0    4.7\n",
       "Name: score, dtype: float64"
      ]
     },
     "execution_count": 16,
     "metadata": {},
     "output_type": "execute_result"
    }
   ],
   "source": [
    "main_data['score'].mode()"
   ]
  },
  {
   "cell_type": "code",
   "execution_count": 17,
   "id": "4cccda00",
   "metadata": {},
   "outputs": [],
   "source": [
    "main_data['score'].fillna(main_data['score'].mean(), inplace=True)"
   ]
  },
  {
   "cell_type": "code",
   "execution_count": 18,
   "id": "b6cc5b81",
   "metadata": {},
   "outputs": [
    {
     "data": {
      "text/plain": [
       "0"
      ]
     },
     "execution_count": 18,
     "metadata": {},
     "output_type": "execute_result"
    }
   ],
   "source": [
    "main_data['score'].isnull().sum()"
   ]
  },
  {
   "cell_type": "code",
   "execution_count": 19,
   "id": "05ed46fd",
   "metadata": {},
   "outputs": [
    {
     "data": {
      "text/plain": [
       "array([ nan,  22.,  63.,  44.,  20.,  48.,  19., 100.,  21.,  24.,  39.,\n",
       "        62.,  23.,  91.,  17.,  28.,  29.,  56.,  35.,  61.,  79.,  59.,\n",
       "        34.,  37.,  50.,  52.,  31.,  30.,  32.,  18.,  78.,  12.,  68.,\n",
       "        47.,  49.,  54.,  15.,  51.,  16.,  45.,  26.,  96.,  76.,  11.,\n",
       "        13.,  80.,  55.,  97.,  73.,  43.,  77.,  46.,  25.,  86.,  33.,\n",
       "        14.,  64.,  74.,  57.,  58.,  10.,  93.,  36.,  40.,  82.,  84.,\n",
       "        42.,  60.,  38.,  69.,  67.,  27.,  41.,  87.,  53.,  66.,  94.,\n",
       "        88.,  89.,  72.,  99.,  81.,  92.,  95.,  85.,  75.,  65.,  83.,\n",
       "        70., 200., 128., 115.,  71., 107., 106., 120., 163., 132.,  90.,\n",
       "       112., 105., 110., 123., 142., 109., 135., 192., 108., 126., 182.,\n",
       "       184., 183., 141., 169., 160., 150., 146., 131., 140., 103., 143.,\n",
       "       190., 124., 153., 127., 156., 133., 152., 137., 121., 198., 178.,\n",
       "       171., 117., 118., 180., 159., 119., 154., 174., 102., 173., 185.,\n",
       "       186., 165., 125., 168., 114., 155., 157., 130.,  98., 188., 162.,\n",
       "       122., 145., 187., 104., 138., 116., 193., 166., 129., 161., 199.,\n",
       "       111., 101., 191., 158., 134., 170., 144., 167., 177., 139., 113.,\n",
       "       195., 147., 172., 189., 136., 164., 194., 179., 149., 151., 148.,\n",
       "       175., 176., 196., 181., 197., 398., 278., 250., 221., 247., 297.,\n",
       "       312., 236., 262., 228., 237., 234., 253., 222., 249., 326., 264.,\n",
       "       246., 256., 375., 318., 211., 314., 230., 257., 207., 215., 500.,\n",
       "       340., 224., 348., 223., 233., 210., 289., 408., 216., 252., 245.,\n",
       "       445., 332., 287., 238., 291., 276., 209., 309., 225., 274., 244.,\n",
       "       260., 284., 319., 304., 345., 248., 201., 231., 330., 202., 219.,\n",
       "       422., 389., 321., 275., 325., 371., 301., 205., 271., 220., 463.,\n",
       "       204., 444., 324., 213., 404., 263., 203., 240., 226., 361., 346.,\n",
       "       339., 265., 261., 362., 218., 227., 364., 461., 334., 446., 365.,\n",
       "       383., 243., 305., 359., 235., 470., 396., 320., 413., 376., 373.,\n",
       "       206., 266., 331., 267., 368., 208., 328., 496., 259., 212., 232.,\n",
       "       429., 351., 402., 377., 270., 358., 355., 417., 302., 401., 316.,\n",
       "       350., 214., 374., 452., 239., 367., 425., 299., 273., 379., 300.,\n",
       "       298., 217., 498., 354., 433., 366., 418., 277., 335., 293., 307.,\n",
       "       292., 495., 338., 279., 454., 281., 280., 294., 288., 268., 486.,\n",
       "       411., 336., 471., 343., 258., 290., 254., 435., 251., 242., 386.,\n",
       "       241., 485., 356., 342., 391., 357., 431., 439., 423., 432., 491.,\n",
       "       333., 400., 465., 370., 441., 394., 285., 308., 460., 352., 434.,\n",
       "       282., 477., 430., 283., 313., 458., 487., 442., 384., 494., 397.,\n",
       "       488., 369., 466., 360., 311., 337., 229., 380., 347., 315., 306.,\n",
       "       438., 436., 479., 286., 303., 255., 399., 323., 388., 392.])"
      ]
     },
     "execution_count": 19,
     "metadata": {},
     "output_type": "execute_result"
    }
   ],
   "source": [
    "main_data['ratings'].unique()"
   ]
  },
  {
   "cell_type": "code",
   "execution_count": 20,
   "id": "b2b0e4bd",
   "metadata": {},
   "outputs": [
    {
     "data": {
      "text/plain": [
       "200.0    930\n",
       "10.0     497\n",
       "12.0     480\n",
       "11.0     475\n",
       "100.0    466\n",
       "13.0     414\n",
       "14.0     381\n",
       "16.0     379\n",
       "15.0     371\n",
       "17.0     348\n",
       "20.0     334\n",
       "18.0     330\n",
       "21.0     329\n",
       "19.0     302\n",
       "25.0     300\n",
       "22.0     292\n",
       "23.0     277\n",
       "32.0     275\n",
       "24.0     265\n",
       "50.0     259\n",
       "26.0     253\n",
       "30.0     252\n",
       "28.0     248\n",
       "27.0     238\n",
       "33.0     234\n",
       "29.0     231\n",
       "38.0     230\n",
       "37.0     224\n",
       "31.0     217\n",
       "35.0     211\n",
       "34.0     205\n",
       "36.0     203\n",
       "39.0     202\n",
       "45.0     202\n",
       "41.0     200\n",
       "42.0     194\n",
       "40.0     193\n",
       "48.0     188\n",
       "43.0     183\n",
       "47.0     164\n",
       "52.0     163\n",
       "51.0     162\n",
       "49.0     161\n",
       "53.0     159\n",
       "44.0     157\n",
       "46.0     153\n",
       "57.0     151\n",
       "54.0     150\n",
       "60.0     143\n",
       "58.0     140\n",
       "56.0     140\n",
       "67.0     139\n",
       "65.0     136\n",
       "55.0     134\n",
       "61.0     134\n",
       "71.0     130\n",
       "62.0     128\n",
       "66.0     126\n",
       "500.0    125\n",
       "79.0     125\n",
       "59.0     122\n",
       "73.0     118\n",
       "76.0     118\n",
       "80.0     115\n",
       "69.0     114\n",
       "68.0     112\n",
       "64.0     112\n",
       "81.0     111\n",
       "74.0     110\n",
       "72.0     108\n",
       "77.0     108\n",
       "63.0     102\n",
       "91.0     102\n",
       "70.0     102\n",
       "78.0     101\n",
       "84.0      99\n",
       "83.0      99\n",
       "75.0      96\n",
       "87.0      95\n",
       "93.0      91\n",
       "86.0      90\n",
       "89.0      90\n",
       "85.0      88\n",
       "82.0      85\n",
       "90.0      84\n",
       "88.0      83\n",
       "95.0      82\n",
       "94.0      82\n",
       "92.0      81\n",
       "105.0     75\n",
       "96.0      72\n",
       "99.0      71\n",
       "102.0     70\n",
       "97.0      69\n",
       "103.0     69\n",
       "106.0     69\n",
       "104.0     68\n",
       "110.0     65\n",
       "98.0      64\n",
       "109.0     63\n",
       "108.0     61\n",
       "121.0     61\n",
       "112.0     60\n",
       "107.0     60\n",
       "111.0     57\n",
       "116.0     56\n",
       "127.0     55\n",
       "124.0     53\n",
       "130.0     52\n",
       "101.0     52\n",
       "115.0     51\n",
       "118.0     51\n",
       "120.0     51\n",
       "156.0     49\n",
       "119.0     48\n",
       "132.0     48\n",
       "114.0     48\n",
       "150.0     47\n",
       "123.0     47\n",
       "117.0     47\n",
       "125.0     46\n",
       "133.0     46\n",
       "113.0     45\n",
       "140.0     44\n",
       "128.0     44\n",
       "126.0     42\n",
       "142.0     42\n",
       "136.0     41\n",
       "135.0     41\n",
       "134.0     41\n",
       "122.0     38\n",
       "152.0     38\n",
       "129.0     37\n",
       "137.0     37\n",
       "131.0     37\n",
       "143.0     37\n",
       "145.0     36\n",
       "155.0     36\n",
       "139.0     35\n",
       "164.0     34\n",
       "176.0     34\n",
       "146.0     34\n",
       "161.0     34\n",
       "138.0     33\n",
       "171.0     33\n",
       "163.0     33\n",
       "160.0     33\n",
       "149.0     32\n",
       "141.0     32\n",
       "166.0     32\n",
       "162.0     32\n",
       "185.0     31\n",
       "147.0     31\n",
       "148.0     31\n",
       "154.0     31\n",
       "144.0     29\n",
       "167.0     27\n",
       "182.0     27\n",
       "168.0     27\n",
       "169.0     27\n",
       "165.0     27\n",
       "159.0     26\n",
       "157.0     26\n",
       "190.0     26\n",
       "178.0     25\n",
       "153.0     25\n",
       "180.0     24\n",
       "151.0     23\n",
       "179.0     23\n",
       "158.0     23\n",
       "175.0     22\n",
       "170.0     22\n",
       "174.0     21\n",
       "196.0     21\n",
       "192.0     21\n",
       "181.0     20\n",
       "189.0     20\n",
       "173.0     20\n",
       "172.0     19\n",
       "191.0     19\n",
       "199.0     19\n",
       "188.0     19\n",
       "186.0     18\n",
       "177.0     18\n",
       "195.0     16\n",
       "194.0     16\n",
       "183.0     16\n",
       "187.0     15\n",
       "198.0     15\n",
       "193.0     14\n",
       "197.0     14\n",
       "184.0     13\n",
       "262.0     11\n",
       "233.0     11\n",
       "222.0     10\n",
       "211.0     10\n",
       "207.0     10\n",
       "276.0      9\n",
       "236.0      9\n",
       "213.0      9\n",
       "204.0      8\n",
       "230.0      8\n",
       "238.0      8\n",
       "212.0      8\n",
       "245.0      8\n",
       "216.0      8\n",
       "223.0      7\n",
       "228.0      7\n",
       "202.0      7\n",
       "224.0      7\n",
       "226.0      7\n",
       "221.0      7\n",
       "205.0      6\n",
       "287.0      6\n",
       "244.0      6\n",
       "304.0      6\n",
       "227.0      6\n",
       "246.0      6\n",
       "250.0      6\n",
       "264.0      6\n",
       "240.0      5\n",
       "203.0      5\n",
       "265.0      5\n",
       "247.0      5\n",
       "278.0      5\n",
       "461.0      5\n",
       "208.0      5\n",
       "231.0      5\n",
       "302.0      5\n",
       "234.0      5\n",
       "319.0      5\n",
       "249.0      5\n",
       "215.0      5\n",
       "293.0      5\n",
       "292.0      5\n",
       "277.0      4\n",
       "270.0      4\n",
       "289.0      4\n",
       "331.0      4\n",
       "325.0      4\n",
       "241.0      4\n",
       "218.0      4\n",
       "259.0      4\n",
       "217.0      4\n",
       "219.0      4\n",
       "237.0      4\n",
       "288.0      4\n",
       "248.0      4\n",
       "314.0      4\n",
       "284.0      4\n",
       "260.0      4\n",
       "253.0      4\n",
       "299.0      4\n",
       "209.0      4\n",
       "271.0      4\n",
       "235.0      3\n",
       "370.0      3\n",
       "339.0      3\n",
       "487.0      3\n",
       "442.0      3\n",
       "243.0      3\n",
       "232.0      3\n",
       "373.0      3\n",
       "206.0      3\n",
       "368.0      3\n",
       "343.0      3\n",
       "336.0      3\n",
       "361.0      3\n",
       "239.0      3\n",
       "425.0      3\n",
       "335.0      3\n",
       "214.0      3\n",
       "316.0      3\n",
       "274.0      3\n",
       "252.0      3\n",
       "225.0      3\n",
       "309.0      3\n",
       "330.0      3\n",
       "275.0      3\n",
       "326.0      3\n",
       "318.0      3\n",
       "256.0      3\n",
       "291.0      3\n",
       "220.0      3\n",
       "257.0      3\n",
       "348.0      2\n",
       "313.0      2\n",
       "418.0      2\n",
       "298.0      2\n",
       "354.0      2\n",
       "300.0      2\n",
       "379.0      2\n",
       "273.0      2\n",
       "374.0      2\n",
       "345.0      2\n",
       "283.0      2\n",
       "282.0      2\n",
       "338.0      2\n",
       "340.0      2\n",
       "439.0      2\n",
       "357.0      2\n",
       "400.0      2\n",
       "342.0      2\n",
       "356.0      2\n",
       "465.0      2\n",
       "210.0      2\n",
       "242.0      2\n",
       "435.0      2\n",
       "254.0      2\n",
       "258.0      2\n",
       "408.0      2\n",
       "471.0      2\n",
       "375.0      2\n",
       "308.0      2\n",
       "268.0      2\n",
       "352.0      2\n",
       "350.0      2\n",
       "346.0      2\n",
       "401.0      2\n",
       "229.0      2\n",
       "404.0      2\n",
       "261.0      2\n",
       "324.0      2\n",
       "444.0      2\n",
       "364.0      2\n",
       "334.0      2\n",
       "365.0      2\n",
       "359.0      2\n",
       "470.0      2\n",
       "396.0      2\n",
       "320.0      2\n",
       "266.0      2\n",
       "267.0      2\n",
       "312.0      2\n",
       "351.0      2\n",
       "398.0      2\n",
       "417.0      2\n",
       "429.0      2\n",
       "423.0      2\n",
       "306.0      1\n",
       "384.0      1\n",
       "315.0      1\n",
       "333.0      1\n",
       "397.0      1\n",
       "388.0      1\n",
       "491.0      1\n",
       "494.0      1\n",
       "369.0      1\n",
       "323.0      1\n",
       "466.0      1\n",
       "399.0      1\n",
       "441.0      1\n",
       "360.0      1\n",
       "255.0      1\n",
       "394.0      1\n",
       "303.0      1\n",
       "286.0      1\n",
       "311.0      1\n",
       "347.0      1\n",
       "285.0      1\n",
       "458.0      1\n",
       "337.0      1\n",
       "479.0      1\n",
       "460.0      1\n",
       "436.0      1\n",
       "434.0      1\n",
       "488.0      1\n",
       "477.0      1\n",
       "438.0      1\n",
       "430.0      1\n",
       "380.0      1\n",
       "454.0      1\n",
       "432.0      1\n",
       "431.0      1\n",
       "355.0      1\n",
       "358.0      1\n",
       "377.0      1\n",
       "402.0      1\n",
       "422.0      1\n",
       "389.0      1\n",
       "496.0      1\n",
       "328.0      1\n",
       "321.0      1\n",
       "371.0      1\n",
       "301.0      1\n",
       "376.0      1\n",
       "413.0      1\n",
       "305.0      1\n",
       "463.0      1\n",
       "383.0      1\n",
       "446.0      1\n",
       "297.0      1\n",
       "362.0      1\n",
       "201.0      1\n",
       "452.0      1\n",
       "367.0      1\n",
       "280.0      1\n",
       "391.0      1\n",
       "485.0      1\n",
       "386.0      1\n",
       "251.0      1\n",
       "290.0      1\n",
       "411.0      1\n",
       "486.0      1\n",
       "294.0      1\n",
       "281.0      1\n",
       "498.0      1\n",
       "263.0      1\n",
       "279.0      1\n",
       "495.0      1\n",
       "307.0      1\n",
       "445.0      1\n",
       "332.0      1\n",
       "366.0      1\n",
       "433.0      1\n",
       "392.0      1\n",
       "Name: ratings, dtype: int64"
      ]
     },
     "execution_count": 20,
     "metadata": {},
     "output_type": "execute_result"
    }
   ],
   "source": [
    "main_data['ratings'].value_counts(ascending = False)"
   ]
  },
  {
   "cell_type": "code",
   "execution_count": 21,
   "id": "4724c96c",
   "metadata": {},
   "outputs": [
    {
     "data": {
      "text/plain": [
       "74.8709894850364"
      ]
     },
     "execution_count": 21,
     "metadata": {},
     "output_type": "execute_result"
    }
   ],
   "source": [
    "main_data['ratings'].mean()"
   ]
  },
  {
   "cell_type": "code",
   "execution_count": 22,
   "id": "8ce4b4d1",
   "metadata": {},
   "outputs": [
    {
     "data": {
      "text/plain": [
       "0    200.0\n",
       "Name: ratings, dtype: float64"
      ]
     },
     "execution_count": 22,
     "metadata": {},
     "output_type": "execute_result"
    }
   ],
   "source": [
    "main_data['ratings'].mode()"
   ]
  },
  {
   "cell_type": "code",
   "execution_count": 23,
   "id": "a7814233",
   "metadata": {},
   "outputs": [],
   "source": [
    "main_data['ratings'].fillna(main_data['ratings'].mean(), inplace=True)"
   ]
  },
  {
   "cell_type": "code",
   "execution_count": 24,
   "id": "cabf3b07",
   "metadata": {},
   "outputs": [
    {
     "data": {
      "text/plain": [
       "0"
      ]
     },
     "execution_count": 24,
     "metadata": {},
     "output_type": "execute_result"
    }
   ],
   "source": [
    "main_data['ratings'].isnull().sum()"
   ]
  },
  {
   "cell_type": "code",
   "execution_count": 25,
   "id": "00f33c45",
   "metadata": {},
   "outputs": [],
   "source": [
    "main_data.dropna(subset=['super_category', 'full_address', 'zip_code'], inplace=True, how='any', axis=0)"
   ]
  },
  {
   "cell_type": "code",
   "execution_count": 26,
   "id": "c0dc63ab",
   "metadata": {},
   "outputs": [
    {
     "data": {
      "text/plain": [
       "restaurant_id                              0\n",
       "restaurant_position_in_search_result       0\n",
       "restaurant_name                            0\n",
       "score                                      0\n",
       "ratings                                    0\n",
       "super_category                             0\n",
       "price_range                             6527\n",
       "full_address                               0\n",
       "zip_code                                   0\n",
       "lat                                        0\n",
       "long                                       0\n",
       "dtype: int64"
      ]
     },
     "execution_count": 26,
     "metadata": {},
     "output_type": "execute_result"
    }
   ],
   "source": [
    "main_data.isnull().sum()"
   ]
  },
  {
   "cell_type": "code",
   "execution_count": 27,
   "id": "e5fe057a",
   "metadata": {},
   "outputs": [
    {
     "data": {
      "text/plain": [
       "array(['$', nan, '$$', '$$$', '$$$$'], dtype=object)"
      ]
     },
     "execution_count": 27,
     "metadata": {},
     "output_type": "execute_result"
    }
   ],
   "source": [
    "main_data['price_range'].unique()"
   ]
  },
  {
   "cell_type": "code",
   "execution_count": 28,
   "id": "9c3a567a",
   "metadata": {},
   "outputs": [
    {
     "data": {
      "text/plain": [
       "$       24288\n",
       "$$       8946\n",
       "$$$       147\n",
       "$$$$       18\n",
       "Name: price_range, dtype: int64"
      ]
     },
     "execution_count": 28,
     "metadata": {},
     "output_type": "execute_result"
    }
   ],
   "source": [
    "main_data['price_range'].value_counts()"
   ]
  },
  {
   "cell_type": "code",
   "execution_count": 29,
   "id": "21085366",
   "metadata": {},
   "outputs": [],
   "source": [
    "# Replacing the values for the price_range column\n",
    "main_data['price_range'].replace({'$': 'Cheap', '$$': 'Slighty Expensive', '$$$': 'Expensive', '$$$$': 'Very Expensive'}, inplace=True)\n"
   ]
  },
  {
   "cell_type": "code",
   "execution_count": 32,
   "id": "5867e91a",
   "metadata": {},
   "outputs": [
    {
     "data": {
      "text/plain": [
       "Cheap                24288\n",
       "Slighty Expensive     8946\n",
       "Expensive              147\n",
       "Very Expensive          18\n",
       "Name: price_range, dtype: int64"
      ]
     },
     "execution_count": 32,
     "metadata": {},
     "output_type": "execute_result"
    }
   ],
   "source": [
    "main_data['price_range'].value_counts()"
   ]
  },
  {
   "cell_type": "code",
   "execution_count": 34,
   "id": "49ed0448",
   "metadata": {},
   "outputs": [
    {
     "data": {
      "text/plain": [
       "0    Cheap\n",
       "Name: price_range, dtype: object"
      ]
     },
     "execution_count": 34,
     "metadata": {},
     "output_type": "execute_result"
    }
   ],
   "source": [
    "main_data['price_range'].mode()"
   ]
  },
  {
   "cell_type": "code",
   "execution_count": 39,
   "id": "029e1d16",
   "metadata": {},
   "outputs": [],
   "source": [
    "main_data['price_range'].fillna(main_data['price_range'].mode()[0], inplace=True)"
   ]
  },
  {
   "cell_type": "code",
   "execution_count": 40,
   "id": "3eaefd45",
   "metadata": {},
   "outputs": [
    {
     "data": {
      "text/plain": [
       "0"
      ]
     },
     "execution_count": 40,
     "metadata": {},
     "output_type": "execute_result"
    }
   ],
   "source": [
    "main_data['price_range'].isnull().sum()"
   ]
  },
  {
   "cell_type": "code",
   "execution_count": 41,
   "id": "ce2650a4",
   "metadata": {},
   "outputs": [
    {
     "data": {
      "text/plain": [
       "restaurant_id                           0\n",
       "restaurant_position_in_search_result    0\n",
       "restaurant_name                         0\n",
       "score                                   0\n",
       "ratings                                 0\n",
       "super_category                          0\n",
       "price_range                             0\n",
       "full_address                            0\n",
       "zip_code                                0\n",
       "lat                                     0\n",
       "long                                    0\n",
       "dtype: int64"
      ]
     },
     "execution_count": 41,
     "metadata": {},
     "output_type": "execute_result"
    }
   ],
   "source": [
    "# Checking the null values for all columns now\n",
    "main_data.isnull().sum()"
   ]
  },
  {
   "cell_type": "code",
   "execution_count": null,
   "id": "59fd6328",
   "metadata": {},
   "outputs": [],
   "source": []
  },
  {
   "cell_type": "code",
   "execution_count": null,
   "id": "d4ba012c",
   "metadata": {},
   "outputs": [],
   "source": []
  }
 ],
 "metadata": {
  "kernelspec": {
   "display_name": "Python 3 (ipykernel)",
   "language": "python",
   "name": "python3"
  },
  "language_info": {
   "codemirror_mode": {
    "name": "ipython",
    "version": 3
   },
   "file_extension": ".py",
   "mimetype": "text/x-python",
   "name": "python",
   "nbconvert_exporter": "python",
   "pygments_lexer": "ipython3",
   "version": "3.9.13"
  }
 },
 "nbformat": 4,
 "nbformat_minor": 5
}
